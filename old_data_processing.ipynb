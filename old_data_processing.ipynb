{
 "cells": [
  {
   "cell_type": "code",
   "execution_count": 1,
   "metadata": {},
   "outputs": [],
   "source": [
    "from IPython.display import display\n",
    "import gc"
   ]
  },
  {
   "cell_type": "code",
   "execution_count": 2,
   "metadata": {},
   "outputs": [],
   "source": [
    "import pandas as pd\n",
    "import numpy as np\n",
    "import os\n",
    "from tensorflow.keras.preprocessing import image"
   ]
  },
  {
   "cell_type": "markdown",
   "metadata": {},
   "source": [
    "# Processing Train Data"
   ]
  },
  {
   "cell_type": "code",
   "execution_count": 3,
   "metadata": {},
   "outputs": [],
   "source": [
    "train_path = 'data/train/'\n",
    "train_files_path =  [train_path + file_name for file_name in os.listdir(train_path)]"
   ]
  },
  {
   "cell_type": "code",
   "execution_count": 4,
   "metadata": {},
   "outputs": [],
   "source": [
    "labels = []\n",
    "\n",
    "for files_path in train_files_path:\n",
    "    labels.append(files_path.split('/')[2].split('.')[0])"
   ]
  },
  {
   "cell_type": "code",
   "execution_count": 5,
   "metadata": {},
   "outputs": [
    {
     "data": {
      "text/html": [
       "<div>\n",
       "<style scoped>\n",
       "    .dataframe tbody tr th:only-of-type {\n",
       "        vertical-align: middle;\n",
       "    }\n",
       "\n",
       "    .dataframe tbody tr th {\n",
       "        vertical-align: top;\n",
       "    }\n",
       "\n",
       "    .dataframe thead th {\n",
       "        text-align: right;\n",
       "    }\n",
       "</style>\n",
       "<table border=\"1\" class=\"dataframe\">\n",
       "  <thead>\n",
       "    <tr style=\"text-align: right;\">\n",
       "      <th></th>\n",
       "      <th>path</th>\n",
       "      <th>label</th>\n",
       "    </tr>\n",
       "  </thead>\n",
       "  <tbody>\n",
       "    <tr>\n",
       "      <th>0</th>\n",
       "      <td>data/train/cat.0.jpg</td>\n",
       "      <td>cat</td>\n",
       "    </tr>\n",
       "    <tr>\n",
       "      <th>1</th>\n",
       "      <td>data/train/cat.1.jpg</td>\n",
       "      <td>cat</td>\n",
       "    </tr>\n",
       "    <tr>\n",
       "      <th>2</th>\n",
       "      <td>data/train/cat.10.jpg</td>\n",
       "      <td>cat</td>\n",
       "    </tr>\n",
       "    <tr>\n",
       "      <th>3</th>\n",
       "      <td>data/train/cat.100.jpg</td>\n",
       "      <td>cat</td>\n",
       "    </tr>\n",
       "    <tr>\n",
       "      <th>4</th>\n",
       "      <td>data/train/cat.1000.jpg</td>\n",
       "      <td>cat</td>\n",
       "    </tr>\n",
       "  </tbody>\n",
       "</table>\n",
       "</div>"
      ],
      "text/plain": [
       "                      path label\n",
       "0     data/train/cat.0.jpg   cat\n",
       "1     data/train/cat.1.jpg   cat\n",
       "2    data/train/cat.10.jpg   cat\n",
       "3   data/train/cat.100.jpg   cat\n",
       "4  data/train/cat.1000.jpg   cat"
      ]
     },
     "execution_count": 5,
     "metadata": {},
     "output_type": "execute_result"
    }
   ],
   "source": [
    "train_path_frame = pd.DataFrame({\n",
    "    'path': train_files_path,\n",
    "    'label': labels\n",
    "})\n",
    "\n",
    "train_path_frame.head()"
   ]
  },
  {
   "cell_type": "code",
   "execution_count": 6,
   "metadata": {},
   "outputs": [
    {
     "name": "stdout",
     "output_type": "stream",
     "text": [
      "[25000/25000]\r"
     ]
    },
    {
     "data": {
      "text/html": [
       "<div>\n",
       "<style scoped>\n",
       "    .dataframe tbody tr th:only-of-type {\n",
       "        vertical-align: middle;\n",
       "    }\n",
       "\n",
       "    .dataframe tbody tr th {\n",
       "        vertical-align: top;\n",
       "    }\n",
       "\n",
       "    .dataframe thead th {\n",
       "        text-align: right;\n",
       "    }\n",
       "</style>\n",
       "<table border=\"1\" class=\"dataframe\">\n",
       "  <thead>\n",
       "    <tr style=\"text-align: right;\">\n",
       "      <th></th>\n",
       "      <th>label</th>\n",
       "      <th>pixels</th>\n",
       "    </tr>\n",
       "  </thead>\n",
       "  <tbody>\n",
       "    <tr>\n",
       "      <th>0</th>\n",
       "      <td>cat</td>\n",
       "      <td>[[204.0, 165.0, 88.0], [209.0, 170.0, 93.0], [...</td>\n",
       "    </tr>\n",
       "    <tr>\n",
       "      <th>0</th>\n",
       "      <td>cat</td>\n",
       "      <td>[[40.0, 45.0, 41.0], [41.0, 45.0, 45.0], [40.0...</td>\n",
       "    </tr>\n",
       "    <tr>\n",
       "      <th>0</th>\n",
       "      <td>cat</td>\n",
       "      <td>[[29.0, 33.0, 42.0], [19.0, 24.0, 34.0], [31.0...</td>\n",
       "    </tr>\n",
       "    <tr>\n",
       "      <th>0</th>\n",
       "      <td>cat</td>\n",
       "      <td>[[221.0, 222.0, 217.0], [223.0, 224.0, 219.0],...</td>\n",
       "    </tr>\n",
       "    <tr>\n",
       "      <th>0</th>\n",
       "      <td>cat</td>\n",
       "      <td>[[140.0, 112.0, 75.0], [141.0, 113.0, 76.0], [...</td>\n",
       "    </tr>\n",
       "    <tr>\n",
       "      <th>...</th>\n",
       "      <td>...</td>\n",
       "      <td>...</td>\n",
       "    </tr>\n",
       "    <tr>\n",
       "      <th>0</th>\n",
       "      <td>dog</td>\n",
       "      <td>[[147.0, 143.0, 106.0], [149.0, 145.0, 108.0],...</td>\n",
       "    </tr>\n",
       "    <tr>\n",
       "      <th>0</th>\n",
       "      <td>dog</td>\n",
       "      <td>[[132.0, 102.0, 72.0], [103.0, 74.0, 45.0], [9...</td>\n",
       "    </tr>\n",
       "    <tr>\n",
       "      <th>0</th>\n",
       "      <td>dog</td>\n",
       "      <td>[[48.0, 43.0, 40.0], [51.0, 46.0, 43.0], [41.0...</td>\n",
       "    </tr>\n",
       "    <tr>\n",
       "      <th>0</th>\n",
       "      <td>dog</td>\n",
       "      <td>[[253.0, 255.0, 253.0], [253.0, 252.0, 253.0],...</td>\n",
       "    </tr>\n",
       "    <tr>\n",
       "      <th>0</th>\n",
       "      <td>dog</td>\n",
       "      <td>[[245.0, 238.0, 228.0], [246.0, 239.0, 229.0],...</td>\n",
       "    </tr>\n",
       "  </tbody>\n",
       "</table>\n",
       "<p>25000 rows × 2 columns</p>\n",
       "</div>"
      ],
      "text/plain": [
       "   label                                             pixels\n",
       "0    cat  [[204.0, 165.0, 88.0], [209.0, 170.0, 93.0], [...\n",
       "0    cat  [[40.0, 45.0, 41.0], [41.0, 45.0, 45.0], [40.0...\n",
       "0    cat  [[29.0, 33.0, 42.0], [19.0, 24.0, 34.0], [31.0...\n",
       "0    cat  [[221.0, 222.0, 217.0], [223.0, 224.0, 219.0],...\n",
       "0    cat  [[140.0, 112.0, 75.0], [141.0, 113.0, 76.0], [...\n",
       "..   ...                                                ...\n",
       "0    dog  [[147.0, 143.0, 106.0], [149.0, 145.0, 108.0],...\n",
       "0    dog  [[132.0, 102.0, 72.0], [103.0, 74.0, 45.0], [9...\n",
       "0    dog  [[48.0, 43.0, 40.0], [51.0, 46.0, 43.0], [41.0...\n",
       "0    dog  [[253.0, 255.0, 253.0], [253.0, 252.0, 253.0],...\n",
       "0    dog  [[245.0, 238.0, 228.0], [246.0, 239.0, 229.0],...\n",
       "\n",
       "[25000 rows x 2 columns]"
      ]
     },
     "metadata": {},
     "output_type": "display_data"
    }
   ],
   "source": [
    "train_frame = pd.DataFrame()\n",
    "\n",
    "for i in train_path_frame.index:\n",
    "    \n",
    "    print(f\"[{i+1}/{len(train_path_frame.index)}]\", end=\"\\r\")\n",
    "    \n",
    "    img = image.load_img(train_path_frame.iloc[i]['path'])\n",
    "    resized_img = img.resize([128,128])\n",
    "    arr_img = image.img_to_array(resized_img)\n",
    "    flatten_img = arr_img.reshape(([arr_img.shape[0]*arr_img.shape[1],arr_img.shape[2]]))\n",
    "    \n",
    "    train_frame = pd.concat([train_frame, pd.DataFrame({'label': [train_path_frame.iloc[i]['label']],'pixels': [flatten_img]})])\n",
    "    \n",
    "display(train_frame)\n"
   ]
  },
  {
   "cell_type": "code",
   "execution_count": 7,
   "metadata": {},
   "outputs": [],
   "source": [
    "train_frame.to_pickle('data/train_frame.pkl')"
   ]
  },
  {
   "cell_type": "code",
   "execution_count": 8,
   "metadata": {},
   "outputs": [
    {
     "data": {
      "text/plain": [
       "0"
      ]
     },
     "execution_count": 8,
     "metadata": {},
     "output_type": "execute_result"
    }
   ],
   "source": [
    "del train_frame\n",
    "gc.collect()"
   ]
  },
  {
   "cell_type": "markdown",
   "metadata": {},
   "source": [
    "# Processing Test Data"
   ]
  },
  {
   "cell_type": "code",
   "execution_count": 9,
   "metadata": {},
   "outputs": [],
   "source": [
    "test_path = 'data/test1/'\n",
    "test_files_path =  [test_path + file_name for file_name in os.listdir(test_path)]"
   ]
  },
  {
   "cell_type": "code",
   "execution_count": 10,
   "metadata": {},
   "outputs": [
    {
     "data": {
      "text/html": [
       "<div>\n",
       "<style scoped>\n",
       "    .dataframe tbody tr th:only-of-type {\n",
       "        vertical-align: middle;\n",
       "    }\n",
       "\n",
       "    .dataframe tbody tr th {\n",
       "        vertical-align: top;\n",
       "    }\n",
       "\n",
       "    .dataframe thead th {\n",
       "        text-align: right;\n",
       "    }\n",
       "</style>\n",
       "<table border=\"1\" class=\"dataframe\">\n",
       "  <thead>\n",
       "    <tr style=\"text-align: right;\">\n",
       "      <th></th>\n",
       "      <th>path</th>\n",
       "    </tr>\n",
       "  </thead>\n",
       "  <tbody>\n",
       "    <tr>\n",
       "      <th>0</th>\n",
       "      <td>data/test1/1.jpg</td>\n",
       "    </tr>\n",
       "    <tr>\n",
       "      <th>1</th>\n",
       "      <td>data/test1/10.jpg</td>\n",
       "    </tr>\n",
       "    <tr>\n",
       "      <th>2</th>\n",
       "      <td>data/test1/100.jpg</td>\n",
       "    </tr>\n",
       "    <tr>\n",
       "      <th>3</th>\n",
       "      <td>data/test1/1000.jpg</td>\n",
       "    </tr>\n",
       "    <tr>\n",
       "      <th>4</th>\n",
       "      <td>data/test1/10000.jpg</td>\n",
       "    </tr>\n",
       "  </tbody>\n",
       "</table>\n",
       "</div>"
      ],
      "text/plain": [
       "                   path\n",
       "0      data/test1/1.jpg\n",
       "1     data/test1/10.jpg\n",
       "2    data/test1/100.jpg\n",
       "3   data/test1/1000.jpg\n",
       "4  data/test1/10000.jpg"
      ]
     },
     "execution_count": 10,
     "metadata": {},
     "output_type": "execute_result"
    }
   ],
   "source": [
    "test_path_frame = pd.DataFrame({\n",
    "    'path': test_files_path\n",
    "})\n",
    "test_path_frame.head()"
   ]
  },
  {
   "cell_type": "code",
   "execution_count": 11,
   "metadata": {},
   "outputs": [
    {
     "name": "stdout",
     "output_type": "stream",
     "text": [
      "[12500/12500]\r"
     ]
    },
    {
     "data": {
      "text/html": [
       "<div>\n",
       "<style scoped>\n",
       "    .dataframe tbody tr th:only-of-type {\n",
       "        vertical-align: middle;\n",
       "    }\n",
       "\n",
       "    .dataframe tbody tr th {\n",
       "        vertical-align: top;\n",
       "    }\n",
       "\n",
       "    .dataframe thead th {\n",
       "        text-align: right;\n",
       "    }\n",
       "</style>\n",
       "<table border=\"1\" class=\"dataframe\">\n",
       "  <thead>\n",
       "    <tr style=\"text-align: right;\">\n",
       "      <th></th>\n",
       "      <th>pixels</th>\n",
       "    </tr>\n",
       "  </thead>\n",
       "  <tbody>\n",
       "    <tr>\n",
       "      <th>0</th>\n",
       "      <td>[[39.0, 66.0, 98.0], [37.0, 63.0, 100.0], [33....</td>\n",
       "    </tr>\n",
       "    <tr>\n",
       "      <th>0</th>\n",
       "      <td>[[11.0, 8.0, 5.0], [11.0, 8.0, 5.0], [11.0, 8....</td>\n",
       "    </tr>\n",
       "    <tr>\n",
       "      <th>0</th>\n",
       "      <td>[[3.0, 3.0, 3.0], [2.0, 2.0, 2.0], [3.0, 3.0, ...</td>\n",
       "    </tr>\n",
       "    <tr>\n",
       "      <th>0</th>\n",
       "      <td>[[154.0, 177.0, 120.0], [160.0, 177.0, 122.0],...</td>\n",
       "    </tr>\n",
       "    <tr>\n",
       "      <th>0</th>\n",
       "      <td>[[152.0, 132.0, 117.0], [168.0, 144.0, 126.0],...</td>\n",
       "    </tr>\n",
       "    <tr>\n",
       "      <th>...</th>\n",
       "      <td>...</td>\n",
       "    </tr>\n",
       "    <tr>\n",
       "      <th>0</th>\n",
       "      <td>[[45.0, 37.0, 24.0], [46.0, 39.0, 25.0], [50.0...</td>\n",
       "    </tr>\n",
       "    <tr>\n",
       "      <th>0</th>\n",
       "      <td>[[146.0, 167.0, 89.0], [130.0, 121.0, 65.0], [...</td>\n",
       "    </tr>\n",
       "    <tr>\n",
       "      <th>0</th>\n",
       "      <td>[[231.0, 226.0, 127.0], [219.0, 224.0, 122.0],...</td>\n",
       "    </tr>\n",
       "    <tr>\n",
       "      <th>0</th>\n",
       "      <td>[[186.0, 69.0, 95.0], [189.0, 72.0, 98.0], [19...</td>\n",
       "    </tr>\n",
       "    <tr>\n",
       "      <th>0</th>\n",
       "      <td>[[84.0, 76.0, 86.0], [86.0, 79.0, 87.0], [85.0...</td>\n",
       "    </tr>\n",
       "  </tbody>\n",
       "</table>\n",
       "<p>12500 rows × 1 columns</p>\n",
       "</div>"
      ],
      "text/plain": [
       "                                               pixels\n",
       "0   [[39.0, 66.0, 98.0], [37.0, 63.0, 100.0], [33....\n",
       "0   [[11.0, 8.0, 5.0], [11.0, 8.0, 5.0], [11.0, 8....\n",
       "0   [[3.0, 3.0, 3.0], [2.0, 2.0, 2.0], [3.0, 3.0, ...\n",
       "0   [[154.0, 177.0, 120.0], [160.0, 177.0, 122.0],...\n",
       "0   [[152.0, 132.0, 117.0], [168.0, 144.0, 126.0],...\n",
       "..                                                ...\n",
       "0   [[45.0, 37.0, 24.0], [46.0, 39.0, 25.0], [50.0...\n",
       "0   [[146.0, 167.0, 89.0], [130.0, 121.0, 65.0], [...\n",
       "0   [[231.0, 226.0, 127.0], [219.0, 224.0, 122.0],...\n",
       "0   [[186.0, 69.0, 95.0], [189.0, 72.0, 98.0], [19...\n",
       "0   [[84.0, 76.0, 86.0], [86.0, 79.0, 87.0], [85.0...\n",
       "\n",
       "[12500 rows x 1 columns]"
      ]
     },
     "metadata": {},
     "output_type": "display_data"
    }
   ],
   "source": [
    "test_frame = pd.DataFrame()\n",
    "\n",
    "for i in test_path_frame.index:\n",
    "    \n",
    "    print(f\"[{i+1}/{len(test_path_frame.index)}]\", end=\"\\r\")\n",
    "    \n",
    "    img = image.load_img(test_path_frame.iloc[i]['path'])\n",
    "    resized_img = img.resize([128,128])\n",
    "    arr_img = image.img_to_array(resized_img)\n",
    "    flatten_img = arr_img.reshape(([arr_img.shape[0]*arr_img.shape[1],arr_img.shape[2]]))\n",
    "    \n",
    "    test_frame = pd.concat([test_frame, pd.DataFrame({'pixels': [flatten_img]})])\n",
    "    \n",
    "display(test_frame)"
   ]
  },
  {
   "cell_type": "code",
   "execution_count": 12,
   "metadata": {},
   "outputs": [],
   "source": [
    "test_frame.to_pickle('data/test_frame.pkl')"
   ]
  },
  {
   "cell_type": "code",
   "execution_count": 13,
   "metadata": {},
   "outputs": [
    {
     "data": {
      "text/plain": [
       "0"
      ]
     },
     "execution_count": 13,
     "metadata": {},
     "output_type": "execute_result"
    }
   ],
   "source": [
    "del test_frame\n",
    "gc.collect()"
   ]
  }
 ],
 "metadata": {
  "kernelspec": {
   "display_name": "Python 3.10.4 64-bit",
   "language": "python",
   "name": "python3"
  },
  "language_info": {
   "codemirror_mode": {
    "name": "ipython",
    "version": 3
   },
   "file_extension": ".py",
   "mimetype": "text/x-python",
   "name": "python",
   "nbconvert_exporter": "python",
   "pygments_lexer": "ipython3",
   "version": "3.10.4"
  },
  "orig_nbformat": 4,
  "vscode": {
   "interpreter": {
    "hash": "0986a705e0e9c41aedb0cb54b09a403593fe0a5bc8bc18fb428b786d741665bc"
   }
  }
 },
 "nbformat": 4,
 "nbformat_minor": 2
}
