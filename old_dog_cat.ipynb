{
 "cells": [
  {
   "cell_type": "code",
   "execution_count": 1,
   "metadata": {},
   "outputs": [],
   "source": [
    "from IPython.display import display\n",
    "import gc"
   ]
  },
  {
   "cell_type": "code",
   "execution_count": 2,
   "metadata": {},
   "outputs": [],
   "source": [
    "import pandas as pd\n",
    "import numpy as np"
   ]
  },
  {
   "cell_type": "code",
   "execution_count": 3,
   "metadata": {},
   "outputs": [
    {
     "data": {
      "text/html": [
       "<div>\n",
       "<style scoped>\n",
       "    .dataframe tbody tr th:only-of-type {\n",
       "        vertical-align: middle;\n",
       "    }\n",
       "\n",
       "    .dataframe tbody tr th {\n",
       "        vertical-align: top;\n",
       "    }\n",
       "\n",
       "    .dataframe thead th {\n",
       "        text-align: right;\n",
       "    }\n",
       "</style>\n",
       "<table border=\"1\" class=\"dataframe\">\n",
       "  <thead>\n",
       "    <tr style=\"text-align: right;\">\n",
       "      <th></th>\n",
       "      <th>label</th>\n",
       "      <th>pixels</th>\n",
       "    </tr>\n",
       "  </thead>\n",
       "  <tbody>\n",
       "    <tr>\n",
       "      <th>0</th>\n",
       "      <td>dog</td>\n",
       "      <td>[[38.0, 50.0, 60.0], [37.0, 50.0, 63.0], [34.0...</td>\n",
       "    </tr>\n",
       "    <tr>\n",
       "      <th>0</th>\n",
       "      <td>dog</td>\n",
       "      <td>[[72.0, 52.0, 43.0], [76.0, 58.0, 49.0], [55.0...</td>\n",
       "    </tr>\n",
       "    <tr>\n",
       "      <th>0</th>\n",
       "      <td>dog</td>\n",
       "      <td>[[252.0, 243.0, 208.0], [254.0, 243.0, 211.0],...</td>\n",
       "    </tr>\n",
       "    <tr>\n",
       "      <th>0</th>\n",
       "      <td>dog</td>\n",
       "      <td>[[21.0, 21.0, 19.0], [22.0, 22.0, 20.0], [35.0...</td>\n",
       "    </tr>\n",
       "    <tr>\n",
       "      <th>0</th>\n",
       "      <td>dog</td>\n",
       "      <td>[[172.0, 203.0, 107.0], [133.0, 172.0, 76.0], ...</td>\n",
       "    </tr>\n",
       "  </tbody>\n",
       "</table>\n",
       "</div>"
      ],
      "text/plain": [
       "  label                                             pixels\n",
       "0   dog  [[38.0, 50.0, 60.0], [37.0, 50.0, 63.0], [34.0...\n",
       "0   dog  [[72.0, 52.0, 43.0], [76.0, 58.0, 49.0], [55.0...\n",
       "0   dog  [[252.0, 243.0, 208.0], [254.0, 243.0, 211.0],...\n",
       "0   dog  [[21.0, 21.0, 19.0], [22.0, 22.0, 20.0], [35.0...\n",
       "0   dog  [[172.0, 203.0, 107.0], [133.0, 172.0, 76.0], ..."
      ]
     },
     "execution_count": 3,
     "metadata": {},
     "output_type": "execute_result"
    }
   ],
   "source": [
    "train_frame = pd.read_pickle('data/train_frame.pkl')\n",
    "train_frame = train_frame.sample(frac=1)\n",
    "train_frame.head()"
   ]
  },
  {
   "cell_type": "code",
   "execution_count": 4,
   "metadata": {},
   "outputs": [
    {
     "data": {
      "text/plain": [
       "((25000, 128, 128, 3), (25000,))"
      ]
     },
     "execution_count": 4,
     "metadata": {},
     "output_type": "execute_result"
    }
   ],
   "source": [
    "train_pixels = np.array([pixel for pixel in train_frame.pixels.values]).reshape(-1,128,128,3) / 255.0\n",
    "train_label = np.array([label for label in train_frame.label.values])\n",
    "train_pixels.shape, train_label.shape"
   ]
  },
  {
   "cell_type": "code",
   "execution_count": 5,
   "metadata": {},
   "outputs": [
    {
     "data": {
      "text/plain": [
       "0"
      ]
     },
     "execution_count": 5,
     "metadata": {},
     "output_type": "execute_result"
    }
   ],
   "source": [
    "del train_frame\n",
    "gc.collect()"
   ]
  },
  {
   "cell_type": "code",
   "execution_count": 6,
   "metadata": {},
   "outputs": [],
   "source": [
    "from keras.utils import to_categorical"
   ]
  },
  {
   "cell_type": "code",
   "execution_count": 7,
   "metadata": {},
   "outputs": [
    {
     "data": {
      "text/plain": [
       "(25000,)"
      ]
     },
     "execution_count": 7,
     "metadata": {},
     "output_type": "execute_result"
    }
   ],
   "source": [
    "train_label[train_label == 'cat'] = 0\n",
    "train_label[train_label == 'dog'] = 1\n",
    "\n",
    "train_label = train_label.astype('float64')\n",
    "#train_label = to_categorical(train_label)\n",
    "train_label.shape"
   ]
  },
  {
   "cell_type": "code",
   "execution_count": 8,
   "metadata": {},
   "outputs": [],
   "source": [
    "from sklearn.model_selection import train_test_split"
   ]
  },
  {
   "cell_type": "code",
   "execution_count": 9,
   "metadata": {},
   "outputs": [
    {
     "data": {
      "text/plain": [
       "((20000, 128, 128, 3), (5000, 128, 128, 3), (20000,), (5000,))"
      ]
     },
     "execution_count": 9,
     "metadata": {},
     "output_type": "execute_result"
    }
   ],
   "source": [
    "x_train, x_valid, y_train, y_valid = train_test_split(train_pixels, train_label, test_size=0.2, random_state=42)\n",
    "x_train.shape, x_valid.shape, y_train.shape, y_valid.shape"
   ]
  },
  {
   "cell_type": "code",
   "execution_count": 10,
   "metadata": {},
   "outputs": [
    {
     "data": {
      "text/plain": [
       "0"
      ]
     },
     "execution_count": 10,
     "metadata": {},
     "output_type": "execute_result"
    }
   ],
   "source": [
    "del train_pixels, train_label\n",
    "gc.collect()"
   ]
  },
  {
   "cell_type": "code",
   "execution_count": 11,
   "metadata": {},
   "outputs": [],
   "source": [
    "import os\n",
    "#os.environ[\"CUDA_VISIBLE_DEVICES\"] = \"-1\"\n",
    "from keras.models import Sequential\n",
    "from keras.layers import Dense, Input, Flatten, Conv2D, MaxPooling2D, Dropout\n",
    "from keras.activations import relu, sigmoid"
   ]
  },
  {
   "cell_type": "code",
   "execution_count": 25,
   "metadata": {},
   "outputs": [
    {
     "name": "stdout",
     "output_type": "stream",
     "text": [
      "Model: \"sequential_6\"\n",
      "_________________________________________________________________\n",
      " Layer (type)                Output Shape              Param #   \n",
      "=================================================================\n",
      " conv2d_20 (Conv2D)          (None, 126, 126, 32)      896       \n",
      "                                                                 \n",
      " max_pooling2d_20 (MaxPoolin  (None, 63, 63, 32)       0         \n",
      " g2D)                                                            \n",
      "                                                                 \n",
      " conv2d_21 (Conv2D)          (None, 61, 61, 64)        18496     \n",
      "                                                                 \n",
      " max_pooling2d_21 (MaxPoolin  (None, 30, 30, 64)       0         \n",
      " g2D)                                                            \n",
      "                                                                 \n",
      " conv2d_22 (Conv2D)          (None, 28, 28, 128)       73856     \n",
      "                                                                 \n",
      " max_pooling2d_22 (MaxPoolin  (None, 14, 14, 128)      0         \n",
      " g2D)                                                            \n",
      "                                                                 \n",
      " conv2d_23 (Conv2D)          (None, 12, 12, 256)       295168    \n",
      "                                                                 \n",
      " max_pooling2d_23 (MaxPoolin  (None, 6, 6, 256)        0         \n",
      " g2D)                                                            \n",
      "                                                                 \n",
      " flatten_6 (Flatten)         (None, 9216)              0         \n",
      "                                                                 \n",
      " dropout_6 (Dropout)         (None, 9216)              0         \n",
      "                                                                 \n",
      " dense_12 (Dense)            (None, 256)               2359552   \n",
      "                                                                 \n",
      " dense_13 (Dense)            (None, 1)                 257       \n",
      "                                                                 \n",
      "=================================================================\n",
      "Total params: 2,748,225\n",
      "Trainable params: 2,748,225\n",
      "Non-trainable params: 0\n",
      "_________________________________________________________________\n"
     ]
    }
   ],
   "source": [
    "model = Sequential()\n",
    "\n",
    "model.add(Input(shape=(128,128,3)))\n",
    "model.add(Conv2D(filters = 32, kernel_size = (3,3), activation=relu))\n",
    "model.add(MaxPooling2D(2,2))\n",
    "model.add(Conv2D(filters = 64, kernel_size = (3,3), activation=relu))\n",
    "model.add(MaxPooling2D(2,2))\n",
    "model.add(Conv2D(filters = 128, kernel_size = (3,3), activation=relu))\n",
    "model.add(MaxPooling2D(2,2))\n",
    "model.add(Conv2D(filters = 256, kernel_size = (3,3), activation=relu))\n",
    "model.add(MaxPooling2D(2,2))\n",
    "model.add(Flatten())\n",
    "model.add(Dropout(rate=0.2))\n",
    "model.add(Dense(256, activation=relu))\n",
    "model.add(Dense(1, activation=sigmoid))\n",
    "\n",
    "model.summary()"
   ]
  },
  {
   "cell_type": "code",
   "execution_count": 13,
   "metadata": {},
   "outputs": [],
   "source": [
    "from keras.optimizers import Adam"
   ]
  },
  {
   "cell_type": "code",
   "execution_count": 14,
   "metadata": {},
   "outputs": [],
   "source": [
    "opt = Adam(\n",
    "    learning_rate=0.001,\n",
    "    beta_1=0.9,\n",
    "    beta_2=0.999,\n",
    "    epsilon=1e-07,\n",
    "    amsgrad=False,\n",
    "    name='Adam'\n",
    ")"
   ]
  },
  {
   "cell_type": "code",
   "execution_count": 15,
   "metadata": {},
   "outputs": [],
   "source": [
    "from keras.callbacks import EarlyStopping"
   ]
  },
  {
   "cell_type": "code",
   "execution_count": 16,
   "metadata": {},
   "outputs": [],
   "source": [
    "callback = EarlyStopping(\n",
    "    monitor=\"accuracy\",\n",
    "    min_delta=0.0001,\n",
    "    patience=10,\n",
    "    verbose=1,\n",
    "    mode=\"max\",\n",
    "    restore_best_weights=True\n",
    ")"
   ]
  },
  {
   "cell_type": "code",
   "execution_count": 17,
   "metadata": {},
   "outputs": [],
   "source": [
    "from keras.losses import BinaryCrossentropy"
   ]
  },
  {
   "cell_type": "code",
   "execution_count": 18,
   "metadata": {},
   "outputs": [
    {
     "name": "stdout",
     "output_type": "stream",
     "text": [
      "Epoch 1/100\n",
      "200/200 [==============================] - 16s 41ms/step - loss: 0.6117 - accuracy: 0.6508\n",
      "Epoch 2/100\n",
      "200/200 [==============================] - 8s 40ms/step - loss: 0.4588 - accuracy: 0.7827\n",
      "Epoch 3/100\n",
      "200/200 [==============================] - 8s 40ms/step - loss: 0.3757 - accuracy: 0.8285\n",
      "Epoch 4/100\n",
      "200/200 [==============================] - 8s 38ms/step - loss: 0.3086 - accuracy: 0.8640\n",
      "Epoch 5/100\n",
      "200/200 [==============================] - 8s 38ms/step - loss: 0.2613 - accuracy: 0.8889\n",
      "Epoch 6/100\n",
      "200/200 [==============================] - 8s 38ms/step - loss: 0.2187 - accuracy: 0.9067\n",
      "Epoch 7/100\n",
      "200/200 [==============================] - 7s 36ms/step - loss: 0.1826 - accuracy: 0.9270\n",
      "Epoch 8/100\n",
      "200/200 [==============================] - 7s 36ms/step - loss: 0.1422 - accuracy: 0.9437\n",
      "Epoch 9/100\n",
      "200/200 [==============================] - 7s 35ms/step - loss: 0.1139 - accuracy: 0.9537\n",
      "Epoch 10/100\n",
      "200/200 [==============================] - 7s 35ms/step - loss: 0.0923 - accuracy: 0.9649\n",
      "Epoch 11/100\n",
      "200/200 [==============================] - 7s 36ms/step - loss: 0.0760 - accuracy: 0.9704\n",
      "Epoch 12/100\n",
      "200/200 [==============================] - 7s 35ms/step - loss: 0.0626 - accuracy: 0.9753\n",
      "Epoch 13/100\n",
      "200/200 [==============================] - 8s 38ms/step - loss: 0.0476 - accuracy: 0.9816\n",
      "Epoch 14/100\n",
      "200/200 [==============================] - 8s 40ms/step - loss: 0.0434 - accuracy: 0.9835\n",
      "Epoch 15/100\n",
      "200/200 [==============================] - 8s 38ms/step - loss: 0.0379 - accuracy: 0.9862\n",
      "Epoch 16/100\n",
      "200/200 [==============================] - 7s 35ms/step - loss: 0.0337 - accuracy: 0.9876\n",
      "Epoch 17/100\n",
      "200/200 [==============================] - 7s 36ms/step - loss: 0.0367 - accuracy: 0.9870\n",
      "Epoch 18/100\n",
      "200/200 [==============================] - 7s 36ms/step - loss: 0.0283 - accuracy: 0.9895\n",
      "Epoch 19/100\n",
      "200/200 [==============================] - 7s 35ms/step - loss: 0.0329 - accuracy: 0.9884\n",
      "Epoch 20/100\n",
      "200/200 [==============================] - 7s 35ms/step - loss: 0.0277 - accuracy: 0.9905\n",
      "Epoch 21/100\n",
      "200/200 [==============================] - 7s 35ms/step - loss: 0.0311 - accuracy: 0.9887\n",
      "Epoch 22/100\n",
      "200/200 [==============================] - 7s 35ms/step - loss: 0.0242 - accuracy: 0.9922\n",
      "Epoch 23/100\n",
      "200/200 [==============================] - 7s 35ms/step - loss: 0.0196 - accuracy: 0.9936\n",
      "Epoch 24/100\n",
      "200/200 [==============================] - 8s 39ms/step - loss: 0.0164 - accuracy: 0.9946\n",
      "Epoch 25/100\n",
      "200/200 [==============================] - 8s 40ms/step - loss: 0.0206 - accuracy: 0.9924\n",
      "Epoch 26/100\n",
      "200/200 [==============================] - 8s 40ms/step - loss: 0.0243 - accuracy: 0.9922\n",
      "Epoch 27/100\n",
      "200/200 [==============================] - 8s 40ms/step - loss: 0.0219 - accuracy: 0.9922\n",
      "Epoch 28/100\n",
      "200/200 [==============================] - 8s 40ms/step - loss: 0.0176 - accuracy: 0.9940\n",
      "Epoch 29/100\n",
      "200/200 [==============================] - 8s 39ms/step - loss: 0.0227 - accuracy: 0.9923\n",
      "Epoch 30/100\n",
      "200/200 [==============================] - 8s 40ms/step - loss: 0.0204 - accuracy: 0.9929\n",
      "Epoch 31/100\n",
      "200/200 [==============================] - 8s 40ms/step - loss: 0.0158 - accuracy: 0.9946\n",
      "Epoch 32/100\n",
      "200/200 [==============================] - 8s 40ms/step - loss: 0.0156 - accuracy: 0.9949\n",
      "Epoch 33/100\n",
      "200/200 [==============================] - 8s 40ms/step - loss: 0.0127 - accuracy: 0.9959\n",
      "Epoch 34/100\n",
      "200/200 [==============================] - 8s 38ms/step - loss: 0.0196 - accuracy: 0.9938\n",
      "Epoch 35/100\n",
      "200/200 [==============================] - 7s 37ms/step - loss: 0.0221 - accuracy: 0.9923\n",
      "Epoch 36/100\n",
      "200/200 [==============================] - 8s 40ms/step - loss: 0.0177 - accuracy: 0.9940\n",
      "Epoch 37/100\n",
      "200/200 [==============================] - 8s 40ms/step - loss: 0.0131 - accuracy: 0.9958\n",
      "Epoch 38/100\n",
      "200/200 [==============================] - 8s 40ms/step - loss: 0.0171 - accuracy: 0.9938\n",
      "Epoch 39/100\n",
      "200/200 [==============================] - 8s 40ms/step - loss: 0.0173 - accuracy: 0.9939\n",
      "Epoch 40/100\n",
      "200/200 [==============================] - 8s 40ms/step - loss: 0.0176 - accuracy: 0.9936\n",
      "Epoch 41/100\n",
      "200/200 [==============================] - 8s 40ms/step - loss: 0.0069 - accuracy: 0.9977\n",
      "Epoch 42/100\n",
      "200/200 [==============================] - 7s 36ms/step - loss: 0.0150 - accuracy: 0.9948\n",
      "Epoch 43/100\n",
      "200/200 [==============================] - 7s 35ms/step - loss: 0.0163 - accuracy: 0.9940\n",
      "Epoch 44/100\n",
      "200/200 [==============================] - 7s 35ms/step - loss: 0.0093 - accuracy: 0.9967\n",
      "Epoch 45/100\n",
      "200/200 [==============================] - 7s 37ms/step - loss: 0.0129 - accuracy: 0.9958\n",
      "Epoch 46/100\n",
      "200/200 [==============================] - 7s 36ms/step - loss: 0.0138 - accuracy: 0.9951\n",
      "Epoch 47/100\n",
      "200/200 [==============================] - 7s 36ms/step - loss: 0.0190 - accuracy: 0.9941\n",
      "Epoch 48/100\n",
      "200/200 [==============================] - 7s 36ms/step - loss: 0.0113 - accuracy: 0.9956\n",
      "Epoch 49/100\n",
      "200/200 [==============================] - 7s 35ms/step - loss: 0.0121 - accuracy: 0.9958\n",
      "Epoch 50/100\n",
      "200/200 [==============================] - 7s 36ms/step - loss: 0.0160 - accuracy: 0.9944\n",
      "Epoch 51/100\n",
      "199/200 [============================>.] - ETA: 0s - loss: 0.0165 - accuracy: 0.9948Restoring model weights from the end of the best epoch: 41.\n",
      "200/200 [==============================] - 8s 39ms/step - loss: 0.0164 - accuracy: 0.9948\n",
      "Epoch 51: early stopping\n"
     ]
    }
   ],
   "source": [
    "model.compile(optimizer=opt, loss=BinaryCrossentropy(), metrics=['accuracy'])\n",
    "hist = model.fit(x_train, y_train, batch_size = 100, epochs=100, callbacks=[callback])"
   ]
  },
  {
   "cell_type": "code",
   "execution_count": 19,
   "metadata": {},
   "outputs": [
    {
     "name": "stdout",
     "output_type": "stream",
     "text": [
      "50/50 [==============================] - 1s 18ms/step - loss: 0.5706 - accuracy: 0.9070\n"
     ]
    },
    {
     "data": {
      "text/plain": [
       "[0.5706122517585754, 0.9070000052452087]"
      ]
     },
     "execution_count": 19,
     "metadata": {},
     "output_type": "execute_result"
    }
   ],
   "source": [
    "validation = model.evaluate(x_valid, y_valid, batch_size=100)\n",
    "validation"
   ]
  }
 ],
 "metadata": {
  "kernelspec": {
   "display_name": "Python 3.10.4 64-bit",
   "language": "python",
   "name": "python3"
  },
  "language_info": {
   "codemirror_mode": {
    "name": "ipython",
    "version": 3
   },
   "file_extension": ".py",
   "mimetype": "text/x-python",
   "name": "python",
   "nbconvert_exporter": "python",
   "pygments_lexer": "ipython3",
   "version": "3.10.4"
  },
  "orig_nbformat": 4,
  "vscode": {
   "interpreter": {
    "hash": "0986a705e0e9c41aedb0cb54b09a403593fe0a5bc8bc18fb428b786d741665bc"
   }
  }
 },
 "nbformat": 4,
 "nbformat_minor": 2
}
